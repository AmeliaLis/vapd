{
 "cells": [
  {
   "cell_type": "markdown",
   "metadata": {},
   "source": [
    "# SERIES\n",
    "---"
   ]
  },
  {
   "cell_type": "markdown",
   "metadata": {},
   "source": [
    "A **Series** is a 1-dimensional data structure. Each data point has an associated label. The collection of these labels is called an index."
   ]
  },
  {
   "cell_type": "markdown",
   "metadata": {},
   "source": [
    "## Creating Series from List"
   ]
  },
  {
   "cell_type": "markdown",
   "metadata": {},
   "source": [
    "To create a Series, first import the Pandas library into your notebook."
   ]
  },
  {
   "cell_type": "code",
   "execution_count": 2,
   "metadata": {},
   "outputs": [],
   "source": [
    "import pandas as pd"
   ]
  },
  {
   "cell_type": "markdown",
   "metadata": {},
   "source": [
    "Now, you can use the Pandas. To create a Series, you need a collection of data. Here is a list of the company's employees."
   ]
  },
  {
   "cell_type": "code",
   "execution_count": 3,
   "metadata": {},
   "outputs": [],
   "source": [
    "employees = ['Georgia','Edward','William','Jack','Juliet','Daisy','Frank']\n"
   ]
  },
  {
   "cell_type": "markdown",
   "metadata": {},
   "source": [
    "Creating a Series is super easy. To create a Series named **ds**, just use a name of a data collection."
   ]
  },
  {
   "cell_type": "code",
   "execution_count": 4,
   "metadata": {},
   "outputs": [],
   "source": [
    "ds = pd.Series(data=employees)\n"
   ]
  },
  {
   "cell_type": "markdown",
   "metadata": {},
   "source": [
    "To display the contents of a Series, simply use its name."
   ]
  },
  {
   "cell_type": "code",
   "execution_count": 5,
   "metadata": {},
   "outputs": [
    {
     "data": {
      "text/plain": [
       "0    Georgia\n",
       "1     Edward\n",
       "2    William\n",
       "3       Jack\n",
       "4     Juliet\n",
       "5      Daisy\n",
       "6      Frank\n",
       "dtype: object"
      ]
     },
     "execution_count": 5,
     "metadata": {},
     "output_type": "execute_result"
    }
   ],
   "source": [
    "ds"
   ]
  },
  {
   "cell_type": "markdown",
   "metadata": {},
   "source": [
    "You can also display the contents of a Series using the print function."
   ]
  },
  {
   "cell_type": "code",
   "execution_count": 6,
   "metadata": {},
   "outputs": [
    {
     "name": "stdout",
     "output_type": "stream",
     "text": [
      "0    Georgia\n",
      "1     Edward\n",
      "2    William\n",
      "3       Jack\n",
      "4     Juliet\n",
      "5      Daisy\n",
      "6      Frank\n",
      "dtype: object\n"
     ]
    }
   ],
   "source": [
    "print(ds)"
   ]
  },
  {
   "cell_type": "markdown",
   "metadata": {},
   "source": [
    "You can modify the collection of data and run the code cells again to create and display the Series."
   ]
  },
  {
   "cell_type": "markdown",
   "metadata": {},
   "source": [
    "### Tasks"
   ]
  },
  {
   "cell_type": "markdown",
   "metadata": {},
   "source": [
    "Try to add an additional two employees to the list created earlier. Then, create and display Series once again."
   ]
  },
  {
   "cell_type": "code",
   "execution_count": 19,
   "metadata": {},
   "outputs": [
    {
     "name": "stdout",
     "output_type": "stream",
     "text": [
      "0    Georgia\n",
      "1     Edward\n",
      "2    William\n",
      "3       Jack\n",
      "4     Juliet\n",
      "5      Daisy\n",
      "6      Frank\n",
      "7       Adam\n",
      "8       Alan\n",
      "dtype: object\n"
     ]
    }
   ],
   "source": [
    "employees.append('Adam')\n",
    "employees.append('Alan')\n",
    "\n",
    "ds = pd.Series(data=employees)\n",
    "print(ds)"
   ]
  },
  {
   "cell_type": "markdown",
   "metadata": {},
   "source": [
    "Create your first Series called **components** containing the names of the five components of your computer. Then, display the contents of the Series. To complete the task, add a cell(s) with Python code below."
   ]
  },
  {
   "cell_type": "code",
   "execution_count": 25,
   "metadata": {},
   "outputs": [
    {
     "name": "stdout",
     "output_type": "stream",
     "text": [
      "0         Mouse\n",
      "1      Keyboard\n",
      "2       Monitor\n",
      "3    Headphones\n",
      "4           CPU\n",
      "dtype: object\n"
     ]
    }
   ],
   "source": [
    "components = ['Mouse', 'Keyboard','Monitor', 'Headphones','CPU']\n",
    "components_series = pd.Series(data=components)\n",
    "print(components_series)"
   ]
  },
  {
   "cell_type": "markdown",
   "metadata": {},
   "source": [
    "## Creating Series from Dictionary"
   ]
  },
  {
   "cell_type": "markdown",
   "metadata": {},
   "source": [
    "To create a Series, as a collection of data you can also use a dictionary, which consists of key and value pairs of information."
   ]
  },
  {
   "cell_type": "code",
   "execution_count": 26,
   "metadata": {},
   "outputs": [
    {
     "data": {
      "text/plain": [
       "hammer         15\n",
       "drill           4\n",
       "screwdriver    23\n",
       "saw             7\n",
       "knife           9\n",
       "dtype: int64"
      ]
     },
     "execution_count": 26,
     "metadata": {},
     "output_type": "execute_result"
    }
   ],
   "source": [
    "tools_in_stock = {'hammer':15, 'drill':4, 'screwdriver':23, 'saw':7, 'knife':9}\n",
    "tools = pd.Series(data=tools_in_stock)\n",
    "tools"
   ]
  },
  {
   "cell_type": "markdown",
   "metadata": {},
   "source": [
    "### Tasks"
   ]
  },
  {
   "cell_type": "markdown",
   "metadata": {},
   "source": [
    "Modify the data collection by adding two additional tools. Then, create and display Series once again."
   ]
  },
  {
   "cell_type": "code",
   "execution_count": 42,
   "metadata": {},
   "outputs": [
    {
     "name": "stdout",
     "output_type": "stream",
     "text": [
      "hammer         15\n",
      "drill           4\n",
      "screwdriver    23\n",
      "saw             7\n",
      "knife           9\n",
      "nails          43\n",
      "keys            7\n",
      "dtype: int64\n"
     ]
    }
   ],
   "source": [
    "tools_in_stock.update( [('nails', 43),('keys',7)] )\n",
    "tools_series = pd.Series(data = tools_in_stock)\n",
    "print(tools_series)\n"
   ]
  },
  {
   "cell_type": "markdown",
   "metadata": {},
   "source": [
    "## Data Statistics"
   ]
  },
  {
   "cell_type": "markdown",
   "metadata": {},
   "source": [
    "Pandas includes a number of functions to calculate various statistics. You can, for example, calculate the sum of tools in stock using sum(), or their arithmetic mean using mean()."
   ]
  },
  {
   "cell_type": "code",
   "execution_count": 55,
   "metadata": {},
   "outputs": [
    {
     "name": "stdout",
     "output_type": "stream",
     "text": [
      "108\n"
     ]
    }
   ],
   "source": [
    "tools_series.sum()\n",
    "print(tools_series.sum())"
   ]
  },
  {
   "cell_type": "markdown",
   "metadata": {},
   "source": [
    "You can also generate descriptive statistics (tools.describe()) that quantitatively describes or summarizes features from a collection of information."
   ]
  },
  {
   "cell_type": "code",
   "execution_count": 59,
   "metadata": {},
   "outputs": [
    {
     "name": "stdout",
     "output_type": "stream",
     "text": [
      "count     7.000000\n",
      "mean     15.428571\n",
      "std      13.733865\n",
      "min       4.000000\n",
      "25%       7.000000\n",
      "50%       9.000000\n",
      "75%      19.000000\n",
      "max      43.000000\n",
      "dtype: float64\n"
     ]
    }
   ],
   "source": [
    "print(tools_series.describe())"
   ]
  },
  {
   "cell_type": "markdown",
   "metadata": {},
   "source": [
    "### Tasks"
   ]
  },
  {
   "cell_type": "markdown",
   "metadata": {},
   "source": [
    "Calculate the average number of tools in stock."
   ]
  },
  {
   "cell_type": "code",
   "execution_count": 63,
   "metadata": {},
   "outputs": [
    {
     "name": "stdout",
     "output_type": "stream",
     "text": [
      "15.428571428571429\n"
     ]
    }
   ],
   "source": [
    "print(tools_series.mean())"
   ]
  },
  {
   "cell_type": "markdown",
   "metadata": {},
   "source": [
    "Generate descriptive statistics for the tools in stock."
   ]
  },
  {
   "cell_type": "code",
   "execution_count": 67,
   "metadata": {},
   "outputs": [
    {
     "name": "stdout",
     "output_type": "stream",
     "text": [
      "count     7.000000\n",
      "mean     15.428571\n",
      "std      13.733865\n",
      "min       4.000000\n",
      "25%       7.000000\n",
      "50%       9.000000\n",
      "75%      19.000000\n",
      "max      43.000000\n",
      "dtype: float64\n"
     ]
    }
   ],
   "source": [
    "print(tools_series.describe())"
   ]
  },
  {
   "cell_type": "markdown",
   "metadata": {},
   "source": [
    "## Data Limitation"
   ]
  },
  {
   "cell_type": "markdown",
   "metadata": {},
   "source": [
    "You can specify a single value in Series."
   ]
  },
  {
   "cell_type": "code",
   "execution_count": 68,
   "metadata": {},
   "outputs": [
    {
     "data": {
      "text/plain": [
       "4"
      ]
     },
     "execution_count": 68,
     "metadata": {},
     "output_type": "execute_result"
    }
   ],
   "source": [
    "tools['drill']"
   ]
  },
  {
   "cell_type": "markdown",
   "metadata": {},
   "source": [
    "You can also specify a subset of values [from:to]. "
   ]
  },
  {
   "cell_type": "code",
   "execution_count": 69,
   "metadata": {},
   "outputs": [
    {
     "data": {
      "text/plain": [
       "drill           4\n",
       "screwdriver    23\n",
       "saw             7\n",
       "dtype: int64"
      ]
     },
     "execution_count": 69,
     "metadata": {},
     "output_type": "execute_result"
    }
   ],
   "source": [
    "tools['drill':'saw']"
   ]
  },
  {
   "cell_type": "markdown",
   "metadata": {},
   "source": [
    "For the selected values you can then calculate various statistics."
   ]
  },
  {
   "cell_type": "code",
   "execution_count": 70,
   "metadata": {},
   "outputs": [
    {
     "data": {
      "text/plain": [
       "34"
      ]
     },
     "execution_count": 70,
     "metadata": {},
     "output_type": "execute_result"
    }
   ],
   "source": [
    "tools['drill':'saw'].sum()"
   ]
  },
  {
   "cell_type": "markdown",
   "metadata": {},
   "source": [
    "## Creating Your First Series from Dictionary"
   ]
  },
  {
   "cell_type": "markdown",
   "metadata": {},
   "source": [
    "### Tasks"
   ]
  },
  {
   "cell_type": "markdown",
   "metadata": {},
   "source": [
    "Create a Series called **restaurant** containing the number of restaurant customers on each of the seven days of the week."
   ]
  },
  {
   "cell_type": "code",
   "execution_count": 71,
   "metadata": {},
   "outputs": [],
   "source": [
    "restaurant = {'Mon':2434,'Tue':1241,'Wed':593,'Thu':2940,'Fri':4000,'Sat':2984,'Sun':123}\n",
    "restaurant_series = pd.Series(data=restaurant)"
   ]
  },
  {
   "cell_type": "markdown",
   "metadata": {},
   "source": [
    "With the created data series, follow the instructions below."
   ]
  },
  {
   "cell_type": "markdown",
   "metadata": {},
   "source": [
    "Display the contents of the Series. "
   ]
  },
  {
   "cell_type": "code",
   "execution_count": 73,
   "metadata": {},
   "outputs": [
    {
     "name": "stdout",
     "output_type": "stream",
     "text": [
      "Mon    2434\n",
      "Tue    1241\n",
      "Wed     593\n",
      "Thu    2940\n",
      "Fri    4000\n",
      "Sat    2984\n",
      "Sun     123\n",
      "dtype: int64\n"
     ]
    }
   ],
   "source": [
    "print(restaurant_series)"
   ]
  },
  {
   "cell_type": "markdown",
   "metadata": {},
   "source": [
    "Display the total number of restaurant customers."
   ]
  },
  {
   "cell_type": "code",
   "execution_count": 74,
   "metadata": {},
   "outputs": [
    {
     "name": "stdout",
     "output_type": "stream",
     "text": [
      "14315\n"
     ]
    }
   ],
   "source": [
    "print(restaurant_series.sum())"
   ]
  },
  {
   "cell_type": "markdown",
   "metadata": {},
   "source": [
    "Display the median number of restaurant customers."
   ]
  },
  {
   "cell_type": "code",
   "execution_count": 75,
   "metadata": {},
   "outputs": [
    {
     "name": "stdout",
     "output_type": "stream",
     "text": [
      "2434.0\n"
     ]
    }
   ],
   "source": [
    "print(restaurant_series.median())"
   ]
  },
  {
   "cell_type": "markdown",
   "metadata": {},
   "source": [
    "Display descriptive statistics."
   ]
  },
  {
   "cell_type": "code",
   "execution_count": 76,
   "metadata": {},
   "outputs": [
    {
     "name": "stdout",
     "output_type": "stream",
     "text": [
      "count       7.000000\n",
      "mean     2045.000000\n",
      "std      1420.381169\n",
      "min       123.000000\n",
      "25%       917.000000\n",
      "50%      2434.000000\n",
      "75%      2962.000000\n",
      "max      4000.000000\n",
      "dtype: float64\n"
     ]
    }
   ],
   "source": [
    "print(restaurant_series.describe())"
   ]
  },
  {
   "cell_type": "markdown",
   "metadata": {},
   "source": [
    "Display the list of restaurant customers on business days."
   ]
  },
  {
   "cell_type": "code",
   "execution_count": 77,
   "metadata": {},
   "outputs": [
    {
     "data": {
      "text/plain": [
       "Mon    2434\n",
       "Tue    1241\n",
       "Wed     593\n",
       "Thu    2940\n",
       "Fri    4000\n",
       "dtype: int64"
      ]
     },
     "execution_count": 77,
     "metadata": {},
     "output_type": "execute_result"
    }
   ],
   "source": [
    "restaurant_series['Mon':'Fri']"
   ]
  },
  {
   "cell_type": "markdown",
   "metadata": {},
   "source": [
    "Display the average number of customers visiting the restaurant during working days."
   ]
  },
  {
   "cell_type": "code",
   "execution_count": 78,
   "metadata": {},
   "outputs": [
    {
     "data": {
      "text/plain": [
       "2241.6"
      ]
     },
     "execution_count": 78,
     "metadata": {},
     "output_type": "execute_result"
    }
   ],
   "source": [
    "restaurant_series['Mon':'Fri'].mean()"
   ]
  },
  {
   "cell_type": "markdown",
   "metadata": {},
   "source": [
    "Display the list of restaurant customers on the weekend."
   ]
  },
  {
   "cell_type": "code",
   "execution_count": 79,
   "metadata": {},
   "outputs": [
    {
     "data": {
      "text/plain": [
       "Fri    4000\n",
       "Sat    2984\n",
       "Sun     123\n",
       "dtype: int64"
      ]
     },
     "execution_count": 79,
     "metadata": {},
     "output_type": "execute_result"
    }
   ],
   "source": [
    "restaurant_series['Fri':'Sun']"
   ]
  },
  {
   "cell_type": "markdown",
   "metadata": {},
   "source": [
    "Display the total number of customers visiting the restaurant over the weekend."
   ]
  },
  {
   "cell_type": "code",
   "execution_count": 80,
   "metadata": {},
   "outputs": [
    {
     "data": {
      "text/plain": [
       "7107"
      ]
     },
     "execution_count": 80,
     "metadata": {},
     "output_type": "execute_result"
    }
   ],
   "source": [
    "restaurant_series['Fri':'Sun'].sum()"
   ]
  }
 ],
 "metadata": {
  "kernelspec": {
   "display_name": "Python 3",
   "language": "python",
   "name": "python3"
  },
  "language_info": {
   "codemirror_mode": {
    "name": "ipython",
    "version": 3
   },
   "file_extension": ".py",
   "mimetype": "text/x-python",
   "name": "python",
   "nbconvert_exporter": "python",
   "pygments_lexer": "ipython3",
   "version": "3.11.5"
  }
 },
 "nbformat": 4,
 "nbformat_minor": 2
}

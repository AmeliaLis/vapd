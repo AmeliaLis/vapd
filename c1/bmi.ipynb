{
 "cells": [
  {
   "cell_type": "code",
   "execution_count": 2,
   "metadata": {},
   "outputs": [
    {
     "name": "stdout",
     "output_type": "stream",
     "text": [
      "Your BMI is: 20.06172839506173\n"
     ]
    }
   ],
   "source": [
    "height_cm = int(input('Enter height in cm: '))\n",
    "weight_kg = int(input('Enter weight in kg: '))\n",
    "bmi = (weight_kg / (height_cm**2)) * 10000\n",
    "print(f'Your BMI is: {bmi}')"
   ]
  }
 ],
 "metadata": {
  "kernelspec": {
   "display_name": "base",
   "language": "python",
   "name": "python3"
  },
  "language_info": {
   "codemirror_mode": {
    "name": "ipython",
    "version": 3
   },
   "file_extension": ".py",
   "mimetype": "text/x-python",
   "name": "python",
   "nbconvert_exporter": "python",
   "pygments_lexer": "ipython3",
   "version": "3.11.5"
  }
 },
 "nbformat": 4,
 "nbformat_minor": 2
}

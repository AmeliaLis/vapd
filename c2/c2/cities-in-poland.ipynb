{
 "cells": [
  {
   "cell_type": "markdown",
   "metadata": {},
   "source": [
    "The list of Polish cities is available in the cities-in-poland.csv file. In a separate notepad, calculate and display:\n",
    "\n",
    "- the number of cities in each province\n",
    "- the total number of inhabitants in each province\n",
    "- the total number of inhabitants in each of the regions in the 'opolskie' province\n",
    "- the total number of inhabitants in each of the regions in the 'opolskie' province; sort the values in descending order"
   ]
  },
  {
   "cell_type": "code",
   "execution_count": 5,
   "metadata": {},
   "outputs": [
    {
     "data": {
      "text/html": [
       "<div>\n",
       "<style scoped>\n",
       "    .dataframe tbody tr th:only-of-type {\n",
       "        vertical-align: middle;\n",
       "    }\n",
       "\n",
       "    .dataframe tbody tr th {\n",
       "        vertical-align: top;\n",
       "    }\n",
       "\n",
       "    .dataframe thead th {\n",
       "        text-align: right;\n",
       "    }\n",
       "</style>\n",
       "<table border=\"1\" class=\"dataframe\">\n",
       "  <thead>\n",
       "    <tr style=\"text-align: right;\">\n",
       "      <th></th>\n",
       "      <th>City</th>\n",
       "      <th>Region</th>\n",
       "      <th>Province</th>\n",
       "      <th>Areakm2</th>\n",
       "      <th>Population</th>\n",
       "    </tr>\n",
       "  </thead>\n",
       "  <tbody>\n",
       "    <tr>\n",
       "      <th>0</th>\n",
       "      <td>Bolesławiec</td>\n",
       "      <td>bolesławiecki</td>\n",
       "      <td>dolnośląskie</td>\n",
       "      <td>23.57</td>\n",
       "      <td>39464</td>\n",
       "    </tr>\n",
       "    <tr>\n",
       "      <th>1</th>\n",
       "      <td>Nowogrodziec</td>\n",
       "      <td>bolesławiecki</td>\n",
       "      <td>dolnośląskie</td>\n",
       "      <td>16.10</td>\n",
       "      <td>4227</td>\n",
       "    </tr>\n",
       "    <tr>\n",
       "      <th>2</th>\n",
       "      <td>Bielawa</td>\n",
       "      <td>dzierżoniowski</td>\n",
       "      <td>dolnośląskie</td>\n",
       "      <td>36.21</td>\n",
       "      <td>30987</td>\n",
       "    </tr>\n",
       "    <tr>\n",
       "      <th>3</th>\n",
       "      <td>Dzierżoniów</td>\n",
       "      <td>dzierżoniowski</td>\n",
       "      <td>dolnośląskie</td>\n",
       "      <td>20.07</td>\n",
       "      <td>34168</td>\n",
       "    </tr>\n",
       "    <tr>\n",
       "      <th>4</th>\n",
       "      <td>Niemcza</td>\n",
       "      <td>dzierżoniowski</td>\n",
       "      <td>dolnośląskie</td>\n",
       "      <td>19.81</td>\n",
       "      <td>3107</td>\n",
       "    </tr>\n",
       "    <tr>\n",
       "      <th>...</th>\n",
       "      <td>...</td>\n",
       "      <td>...</td>\n",
       "      <td>...</td>\n",
       "      <td>...</td>\n",
       "      <td>...</td>\n",
       "    </tr>\n",
       "    <tr>\n",
       "      <th>908</th>\n",
       "      <td>Świnoujście</td>\n",
       "      <td>Świnoujście[a]</td>\n",
       "      <td>zachodniopomorskie</td>\n",
       "      <td>197.23</td>\n",
       "      <td>41276</td>\n",
       "    </tr>\n",
       "    <tr>\n",
       "      <th>909</th>\n",
       "      <td>Człopa</td>\n",
       "      <td>wałecki</td>\n",
       "      <td>zachodniopomorskie</td>\n",
       "      <td>6.27</td>\n",
       "      <td>2345</td>\n",
       "    </tr>\n",
       "    <tr>\n",
       "      <th>910</th>\n",
       "      <td>Mirosławiec</td>\n",
       "      <td>wałecki</td>\n",
       "      <td>zachodniopomorskie</td>\n",
       "      <td>2.17</td>\n",
       "      <td>3040</td>\n",
       "    </tr>\n",
       "    <tr>\n",
       "      <th>911</th>\n",
       "      <td>Tuczno</td>\n",
       "      <td>wałecki</td>\n",
       "      <td>zachodniopomorskie</td>\n",
       "      <td>9.21</td>\n",
       "      <td>1956</td>\n",
       "    </tr>\n",
       "    <tr>\n",
       "      <th>912</th>\n",
       "      <td>Wałcz</td>\n",
       "      <td>wałecki</td>\n",
       "      <td>zachodniopomorskie</td>\n",
       "      <td>38.17</td>\n",
       "      <td>26033</td>\n",
       "    </tr>\n",
       "  </tbody>\n",
       "</table>\n",
       "<p>913 rows × 5 columns</p>\n",
       "</div>"
      ],
      "text/plain": [
       "             City          Region            Province  Areakm2  Population\n",
       "0     Bolesławiec   bolesławiecki        dolnośląskie    23.57       39464\n",
       "1    Nowogrodziec   bolesławiecki        dolnośląskie    16.10        4227\n",
       "2         Bielawa  dzierżoniowski        dolnośląskie    36.21       30987\n",
       "3     Dzierżoniów  dzierżoniowski        dolnośląskie    20.07       34168\n",
       "4         Niemcza  dzierżoniowski        dolnośląskie    19.81        3107\n",
       "..            ...             ...                 ...      ...         ...\n",
       "908   Świnoujście  Świnoujście[a]  zachodniopomorskie   197.23       41276\n",
       "909        Człopa         wałecki  zachodniopomorskie     6.27        2345\n",
       "910   Mirosławiec         wałecki  zachodniopomorskie     2.17        3040\n",
       "911        Tuczno         wałecki  zachodniopomorskie     9.21        1956\n",
       "912         Wałcz         wałecki  zachodniopomorskie    38.17       26033\n",
       "\n",
       "[913 rows x 5 columns]"
      ]
     },
     "execution_count": 5,
     "metadata": {},
     "output_type": "execute_result"
    }
   ],
   "source": [
    "import pandas as pd\n",
    "cit = pd.read_csv('cities-in-poland.csv', delimiter=';')\n",
    "cit"
   ]
  },
  {
   "cell_type": "code",
   "execution_count": 7,
   "metadata": {},
   "outputs": [
    {
     "data": {
      "text/plain": [
       "Province\n",
       "dolnośląskie            91\n",
       "kujawsko-pomorskie      52\n",
       "lubelskie               43\n",
       "lubuskie                42\n",
       "mazowieckie             86\n",
       "małopolskie             59\n",
       "opolskie                35\n",
       "podkarpackie            51\n",
       "podlaskie               40\n",
       "pomorskie               42\n",
       "warmińsko-mazurskie     49\n",
       "wielkopolskie          111\n",
       "zachodniopomorskie      65\n",
       "łódzkie                 44\n",
       "śląskie                 71\n",
       "świętokrzyskie          32\n",
       "Name: City, dtype: int64"
      ]
     },
     "execution_count": 7,
     "metadata": {},
     "output_type": "execute_result"
    }
   ],
   "source": [
    "cit.groupby('Province')['City'].count()"
   ]
  },
  {
   "cell_type": "code",
   "execution_count": 8,
   "metadata": {},
   "outputs": [
    {
     "data": {
      "text/plain": [
       "Province\n",
       "dolnośląskie           2014847\n",
       "kujawsko-pomorskie     1250502\n",
       "lubelskie               992787\n",
       "lubuskie                663334\n",
       "mazowieckie            3427481\n",
       "małopolskie            1604742\n",
       "opolskie                520618\n",
       "podkarpackie            880328\n",
       "podlaskie               720900\n",
       "pomorskie              1487883\n",
       "warmińsko-mazurskie     854265\n",
       "wielkopolskie          1914114\n",
       "zachodniopomorskie     1177650\n",
       "łódzkie                1583399\n",
       "śląskie                3542874\n",
       "świętokrzyskie          565304\n",
       "Name: Population, dtype: int64"
      ]
     },
     "execution_count": 8,
     "metadata": {},
     "output_type": "execute_result"
    }
   ],
   "source": [
    "cit.groupby('Province')['Population'].sum()"
   ]
  },
  {
   "cell_type": "code",
   "execution_count": 17,
   "metadata": {},
   "outputs": [
    {
     "data": {
      "text/plain": [
       "Region\n",
       "Opole[a]                   119574\n",
       "brzeski                     51431\n",
       "głubczycki                  22087\n",
       "kluczborski                 34055\n",
       "krapkowicki                 35279\n",
       "kędzierzyńsko-kozielski     62840\n",
       "namysłowski                 16126\n",
       "nyski                       73571\n",
       "oleski                      23715\n",
       "opolski                     18426\n",
       "prudnicki                   29874\n",
       "strzelecki                  33640\n",
       "Name: Population, dtype: int64"
      ]
     },
     "execution_count": 17,
     "metadata": {},
     "output_type": "execute_result"
    }
   ],
   "source": [
    "cit.query(\"Province =='opolskie'\").groupby('Region')['Population'].sum().sort_values(ascending=False)"
   ]
  }
 ],
 "metadata": {
  "kernelspec": {
   "display_name": "base",
   "language": "python",
   "name": "python3"
  },
  "language_info": {
   "codemirror_mode": {
    "name": "ipython",
    "version": 3
   },
   "file_extension": ".py",
   "mimetype": "text/x-python",
   "name": "python",
   "nbconvert_exporter": "python",
   "pygments_lexer": "ipython3",
   "version": "3.11.5"
  }
 },
 "nbformat": 4,
 "nbformat_minor": 2
}
